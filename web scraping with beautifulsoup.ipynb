{
 "cells": [
  {
   "cell_type": "code",
   "execution_count": 1,
   "metadata": {},
   "outputs": [],
   "source": [
    "from bs4 import BeautifulSoup\n",
    "import requests\n",
    "import pandas as pd"
   ]
  },
  {
   "cell_type": "code",
   "execution_count": 2,
   "metadata": {},
   "outputs": [],
   "source": [
    "r = requests.get(\"https://www.beyazperde.com/filmler-tum/\")"
   ]
  },
  {
   "cell_type": "code",
   "execution_count": 3,
   "metadata": {
    "scrolled": true
   },
   "outputs": [
    {
     "data": {
      "text/plain": [
       "<Response [200]>"
      ]
     },
     "execution_count": 3,
     "metadata": {},
     "output_type": "execute_result"
    }
   ],
   "source": [
    "r"
   ]
  },
  {
   "cell_type": "code",
   "execution_count": 4,
   "metadata": {},
   "outputs": [],
   "source": [
    "soup = BeautifulSoup(r.content, \"lxml\")"
   ]
  },
  {
   "cell_type": "code",
   "execution_count": 5,
   "metadata": {},
   "outputs": [],
   "source": [
    "soup1 = soup.find_all(\"li\", attrs={\"class\":\"mdl\"})"
   ]
  },
  {
   "cell_type": "code",
   "execution_count": 6,
   "metadata": {},
   "outputs": [
    {
     "name": "stdout",
     "output_type": "stream",
     "text": [
      "https://www.beyazperde.com//filmler/film-281303/\n",
      "https://www.beyazperde.com//filmler/film-211012/\n",
      "https://www.beyazperde.com//filmler/film-289179/\n",
      "https://www.beyazperde.com//filmler/film-263058/\n",
      "https://www.beyazperde.com//filmler/film-300163/\n",
      "https://www.beyazperde.com//filmler/film-295340/\n",
      "https://www.beyazperde.com//filmler/film-287213/\n",
      "https://www.beyazperde.com//filmler/film-278334/\n",
      "https://www.beyazperde.com//filmler/film-256880/\n",
      "https://www.beyazperde.com//filmler/film-294302/\n",
      "https://www.beyazperde.com//filmler/film-293561/\n",
      "https://www.beyazperde.com//filmler/film-186437/\n",
      "https://www.beyazperde.com//filmler/film-276098/\n",
      "https://www.beyazperde.com//filmler/film-278915/\n",
      "https://www.beyazperde.com//filmler/film-205450/\n"
     ]
    }
   ],
   "source": [
    "for linkler in soup1:\n",
    "    soup2 = linkler.find(\"h2\", attrs={\"class\":\"meta-title\"})\n",
    "    linksonu=soup2.a.get(\"href\")\n",
    "    linkbasi= \"https://www.beyazperde.com/\"\n",
    "    link = linkbasi+linksonu\n",
    "    print(link) "
   ]
  },
  {
   "cell_type": "code",
   "execution_count": 7,
   "metadata": {},
   "outputs": [],
   "source": [
    "r1 = requests.get(link)\n",
    "soup1 = BeautifulSoup(r1.content,\"lxml\")"
   ]
  },
  {
   "cell_type": "code",
   "execution_count": 8,
   "metadata": {},
   "outputs": [
    {
     "data": {
      "text/plain": [
       "'Grinin Elli Tonu'"
      ]
     },
     "execution_count": 8,
     "metadata": {},
     "output_type": "execute_result"
    }
   ],
   "source": [
    "soup1.find(\"span\",attrs={\"class\":\"tt_r26 j_entities\"}).text.strip().replace(\"\\n\\r\\n\",\"\")"
   ]
  },
  {
   "cell_type": "code",
   "execution_count": 9,
   "metadata": {},
   "outputs": [
    {
     "data": {
      "text/plain": [
       "'13 Şubat 2015'"
      ]
     },
     "execution_count": 9,
     "metadata": {},
     "output_type": "execute_result"
    }
   ],
   "source": [
    "soup1.find(\"span\",attrs={\"itemprop\":\"datePublished\"}).text.strip().replace(\"\\n\\r\\n\",\"\")"
   ]
  },
  {
   "cell_type": "code",
   "execution_count": 10,
   "metadata": {},
   "outputs": [
    {
     "data": {
      "text/plain": [
       "'2s 5dk'"
      ]
     },
     "execution_count": 10,
     "metadata": {},
     "output_type": "execute_result"
    }
   ],
   "source": [
    "soup1.find(\"span\",attrs={\"itemprop\":\"duration\"}).text.strip().replace(\"\\n\\r\\n\",\"\")"
   ]
  },
  {
   "cell_type": "code",
   "execution_count": 11,
   "metadata": {
    "scrolled": true
   },
   "outputs": [
    {
     "data": {
      "text/plain": [
       "\"Bir edebiyat öğrencisi olan güzel Anastasia Steele, çekici ve zengin bir iş adamı olan Christian Grey ile bir röportaj gerçekleştirir. Görüşmeye gittiğinde karşısında, tavırları ve çekiciliği ile baş döndüren bir adam bulur. Aşk ve ilişkiye biraz mesafeli duran Anastasia, bu zengin ve yakışıklı adamın cazibesine karşı koyamaz ve kendisini çekimine bırakır. Fakat hayatta her şeye karşı doyum noktasına ulaşmış olan Grey'in ilişki ve seks söz konusu olunca kimsenin bilmediği gizli sırları vardır. Genç kız karşısındaki adamla şehvetin bilmediği yollarına da sapacak mıdır?E.L. James'in çok satanlar listesinden inmeyen aynı adlı romanından uyarlanan filmin yönetmenliğini Sam Taylor-Johnson\\xa0üstlenirken, başrolleri\\xa0Jamie Dornan ve\\xa0Dakota Johnson paylaşıyor.\""
      ]
     },
     "execution_count": 11,
     "metadata": {},
     "output_type": "execute_result"
    }
   ],
   "source": [
    "soup1.find(\"div\",attrs={\"class\":\"margin_20b\"}).text.strip().replace(\"\\n\\r\\n\",\"\")"
   ]
  },
  {
   "cell_type": "code",
   "execution_count": 12,
   "metadata": {},
   "outputs": [
    {
     "name": "stdout",
     "output_type": "stream",
     "text": [
      "https://www.beyazperde.com//filmler/film-281303/\n",
      "Bergen\n",
      "Arabeskin unutulmayan kadın seslerinden biri olan Bergen'in hayatını anlatan filmde, Bergen olarak bilinen Belgin'in Ankara'dan Adana'ya, oradan da yaşadığı aşkın ardından ebediyete uzanan öyküsünü anlatıyor. 1959 yılında Mersin’de yedi çocuklu bir ailenin en küçük çocuğu olarak dünyaya gelir Belgin. Anne ve babasının boşanması hayatını kökten bir biçimde değiştirir. Ankara'da yaşarken annesinden başka kimsesi yoktur, baba yoksunluğu içinde derin bir boşluk açar. Öte yandan, konservatuara girme başarısıyla katmerlenen gelecek umudu, ilk aşkı Abdullah'tan ayrılmasıyla yara alır. Ama onun en büyük gücü yeteneğidir. Ankara'nın prestijli mekânı Feyman Kulüp'te keşfedilmesiyle birlikte, parlayan genç bir yıldıza, Bergen'e dönüşür.Ancak zamanın koşullarında yapılan kontratlar sebebiyle Bergen bir süre çalışmak için annesiyle birlikte Adana'ya gider. Adana’da çalıştığı müzikholde sahne ve müzik tarzını değiştirmek zorunda kalır. Daha sonra evleneceği Halis Serbest ile karşılaşmasıyla, manipülatif olaylar dizisinin içinde bulur kendini. Halis Serbest'le yaptığı evlilik ise düşlediğinin tersine Bergen'i hayattan koparır. Şiddet dolu günlerde tümüyle yalnızdır. Kariyerinin en güzel yerinde Halis Serbest'in kezzap saldırısına uğrayan Bergen bir gözünü kaybeder. Bergen yaşadığı trajediye rağmen sahnelere döndüğünde, olağanüstü şarkıcılığıyla Türkiye çapında şöhretli bir şarkıcı olur. Halis'in tehdit, taciz ve şiddetle seyreden gerilimli ilişki, git-gellerle devam eder. Bergen hep korku içinde yaşar. Sonunda kesin bir biçimde Halis Serbest'ten kurtulduğunu düşündüğü bir yolculukta silahlı saldırıya uğrar. Annesinin ağır yaralandığı bu saldırıda Bergen hayatını kaybeder. Henüz 30 yaşındaki Bergen öldüğünde ise hem bir kurban hem de arabeskin kraliçesi olarak insanların kalplerine kazınmıştır.\n",
      "4 Mart 2022\n",
      "2s 26dk\n",
      "https://www.beyazperde.com//filmler/film-211012/\n",
      "The Batman\n",
      "The Batman, suçluların kalplerine korku salan Batman'in Riddler isimli bir seri katille mücadelesini konu ediyor. Batman olarak iki yıl sokaklarda dolaşmak ve suçlulara korku salmak Bruce Wayne'i Gotham City'nin karanlığının kalbine sürükledi. Gizemli bir seri katil Riddler, şehrin seçkinlerini hedef alıp bir dizi sadist ve hain saldırı gerçekleştirdiğinde Batman, Riddler'in izini sürmeye başlar. İpuçlarınını peşinden giden Batman'in yolu bu süreçte Catwoman olarak bilinen Selina Kyle, Penguen olarak da bilinen Oswald Cobblepot ve Carmine Falcone gibi karakterlerle kesişir. Batman kurduğu yeni ilişkilerin de yardımıyla suçluların maskesini düşürmek ve Gotham Şehri’ni eski huzuruna kavuşturmak için zorlu bir mücadeleye girişir.\n",
      "4 Mart 2022\n",
      "2s 57dk\n",
      "https://www.beyazperde.com//filmler/film-289179/\n",
      "Dilberay\n",
      "Dilberay, zorlu bir yaşam süren ve 2019 yılında hayata veda eden Dilber Ay’ın hayat hikayesini konu ediyor. Dilber Ay, Kahramanmaraş'ta sekiz çocuklu bir ailenin kızı olarak dünyaya geldi. Hayata çadırda başlayan Dilber Ay, 13 yaşındayken kendisinden yaşça büyük bir adama para karşılığı satıldı. Evlenip, çocuk sahibi olan Dilber Ay'ın en büyük tutkusu şarkı söylemekti ve bu yüzden dayak yiyip, işkence çekti. Ancak o yaşadığı her acıya rağmen sesinden aldığı güçle sahnelere adım attı. Yaşamı boyunca zirveyi gördüğü gibi dibe de vuran Dilber Ay, düştüğü dipsiz kuyulardan şarkı söyleyerek çıktı.\n",
      "4 Şubat 2022\n",
      "2s 9dk\n",
      "https://www.beyazperde.com//filmler/film-263058/\n",
      "Kırmızı\n",
      "Çocuk filmi \n",
      "\n",
      "\n",
      "Kırmızı, ergenliğin getirdiği sorunların altında sıkışıp kalan on üç yaşındaki Mei Lee’nin hayatına odaklanıyor. Mei Lee, annesinin beklentisi ve ergenliğin beraberinde getirdiği karmaşa arasında kalan 13 yaşındaki bir kızdır. Baskıcı olduğu kadar koruyucu bir anne olan Ming, kızının yanından uzaklaşmasını istemez. Ancak bu durum Mei Lee için oldukça talihsizdir. Hem ilişkilerindeki hem de vücudundaki değişikliklerle uğraşan Mei, heyecanlandığı zaman dev bir pandaya dönüşür.\n",
      "11 Mart 2022\n",
      "1s 40dk\n",
      "https://www.beyazperde.com//filmler/film-300163/\n",
      "İlk Seans NMSM\n",
      "İlk Seans: NMSM, mahsur kaldığı metro istasyonunda hayatı boyunca üstesinden gelmeye çalıştığı fobileriyle yüzleşmek zorunda kalan Aslı'nın hikayesini konu ediyor. Çocukluğunda üvey babası kaynaklı oluşan fobilerle başa çıkmaya çalışan Aslı, bu nedenle psikolojik tedavi görür. Karanlık korkusu, kirlenme korkusu, gölge korkusu ve fare korkusu ile başa çıkmak için mücadele eden Aslı, bir gece katıldığı davetten eve dönerken taksi bulmayınca metroya binmek zorunda kalır. Yanında korkularının üstesinden gelmesine yardımcı olması için, içinde dezenfektan, el feneri, yedek pil ve türlü temizlik malzemeleri bulunan 2 çanta taşıyan Aslı, bineceği metroyu da kaçırınca günün son trenini beklemek zozrunda kalır. Trene binip, sakin bir yer seçen Aslı, müzik dinlemeye başlar ancak bu sırada uyuyakalınca son durağa gelen vagonda mahsur kalır. Uyandığında kendisini karanlık bir vagonda tek başına bulan Aslı, çantasının birinin çalındığı ve telefonun da şarjının bittiğini fark eder. En büyük korkularıyla baş başa kalan Aslı, vagondan çıkmayı başarabilecek midir?\n",
      "11 Mart 2022\n",
      "1s 0dk\n",
      "https://www.beyazperde.com//filmler/film-295340/\n",
      "Kesişme: İyi ki Varsın Eren\n",
      "Kesişme; İyi ki Varsın Eren, Trabzon Maçka'da teröristlerle kahraman Mehmetçiğin çatışması sırasında hayatını kaybeden Eren Bülbül ve onu korumaya çalışırken şehit olan Astsubay Kıdemli Başçavuş Ferhat Gedik’in hayat hikayesini konu ediyor.\n",
      "1 Ocak 2022\n",
      "1s 37dk\n",
      "https://www.beyazperde.com//filmler/film-287213/\n",
      "Aykut Enişte 2\n",
      "Aykut Enişte 2, sevdiği kadınla evlilik arifesindeyken kendisini türlü olayların içinde bulan Aykut'un hikayesini konu ediyor. Aykut ile Gülşah evlilik hazırlığındadır. Gülşah'ı elinden kaçırmamaya kararlı olan Aykut, sevdiği kadınla evlenip, Atabeyoğlu Ailesi’nin damadı olacağı için oldukça heyecanlıdır. Ancak beklenmedik bir durum tüm planların alt üst olmasına neden olur. Ailenin eski eniştesi olan Talat'ın düğünden birkaç gün önce ortaya çıkması, tüm işleri karıştırır. İyi niyeti ve saflığı nedeniyle başına açılan belalardan kurtulmaya çalışan Aykut, Gülşah ile evlenmeyi başarabilecek midir?\n",
      "3 Aralık 2021\n",
      "1s 59dk\n",
      "https://www.beyazperde.com//filmler/film-278334/\n",
      "Adanış: Kutsal Kavga\n",
      "Adanış: Kutsal Kavga, İstanbul'un fethinden sonra bir yarısı soylu Julius Ailesi’nde diğer yarısı ise  Adanmışlar'da olan kutsal haritanın odağında olan olayları konu ediyor. \"Adanmışlar\", İstanbul’u fethinin ardından Türklerin eline geçen önemli bir sırrı korumak için teşkilatlanmış olan bir gruptur. Sırrı korumak için her şeyi göze alan \"Adanmışlar, sırrı ele geçirmek için çabalayan karanlık güçlere karşı zorlu bir mücadeleye girişir.\n",
      "11 Mart 2022\n",
      "1s 52dk\n",
      "https://www.beyazperde.com//filmler/film-256880/\n",
      "Örümcek-Adam Eve Dönüş Yok\n",
      "Örümcek-Adam Eve Dönüş Yok, kimliği açığa Örümcek-Adam'ın, sırrını geri vermesi için Doktor Strange'den yardım istemesiyle birlikte yaşananları konu ediyor. Örümcek-Adam'ın kimliği ifşa edilerek onun ve sevdiklerinin hayatı, halkın gözü önüne serilir. Kendisini büyük bir kaosun ortasında bulan Peter, aynı zamanda suç ortakları olarak lanse edilen MJ ve Ned'in hayatının da olumsuz etkilenmesine şahit olur. Arkadaşların üniversiteye girme şanslarının yok olmasına seyirci kalmak istemeyen Peter, sırrını geri vermesi için Doktor Strange'den yardım ister. Peter'ın yakarışından etkilenip ona yardım etmeyi kabul eden Strange, Unutma Büyüsü'nü yapmaya başlar. Ancak bu büyü, MJ, Ned, May ve Happy'nin de Örümcek-Adam'ın kim olduğunu unutmasına neden olacaktır. Arkadaşlarının kim olduğunu hatırlamasını, diğer kişilerin unutmasını isteyen Peter, Strange büyüyü yaparken parametreleri değiştirir. Ancak bu durum beklenmedik olaylara neden olur.\n",
      "17 Aralık 2021\n",
      "2s 28dk\n",
      "https://www.beyazperde.com//filmler/film-294302/\n",
      "Sen Yaşamaya Bak\n",
      "Melisa, oğlu Can'ı tek başına büyüten bekar bir annedir. Hasta olduğunu öğrenmesiyle onun hayatı bambaşka bir hal alır. Çok az ömrü kalan Melisa, hayatının son günlerinde ayaklarını yerden kesecek bir aşk yaşayıp, Can'ı emanet edebileceği birini bulabilecek midir?\n",
      "cikis tarihi bulunamadi\n",
      "1s 44dk\n",
      "https://www.beyazperde.com//filmler/film-293561/\n",
      "Garip Bülbül Neşet Ertaş\n",
      "Garip Bülbül, büyük ozan Neşet Ertaş'ın hayat hikayesini konu ediyor. Hayatı boyunca 400 plak ve birçok kasete imza atan Neşet Ertaş, \"Garip\" mahlasıyla birçok şiir yazdı. Filmde, 2012 yılında vefat eden Neşet Ertaş'ın hem özel hem de kariyer hayatına dair bilinmeyenler anlatılıyor.\n",
      "21 Ekim 2022\n",
      "süre bulunamadi\n",
      "https://www.beyazperde.com//filmler/film-186437/\n"
     ]
    },
    {
     "name": "stdout",
     "output_type": "stream",
     "text": [
      "Uncharted\n",
      "Uncharted, genç ve korkusuz Nathan Drake ile kıvrak zekalı ortağı Victor Sullivan'ın çıktıkları ilk hazine avında yaşadığı maceraları konu ediyor. Hazine avcısı Nathan Drake, efsanevi Güney Amerika altın şehri El Dorado'nun yerini bulabileceğine inanmaktadır. Kıvrak zekalı ortağı Victor Sullivan ile yola koyulan Nathan'ın planı, hırslı bir rakip tarafından keşfedildiğinde, altın şehir arayışı bir yarışa dönüşür. Nathan, baş düşmanının açgözlü entrikalarını ve planlarını engellemek ve El Dorado'ya ondan önce ulaşmak için tüm becerilerini kullanmak zorundadır.\n",
      "11 Şubat 2022\n",
      "1s 56dk\n",
      "https://www.beyazperde.com//filmler/film-276098/\n",
      "Derin Sular\n",
      "Derin Sular, mutsuz bir evliliğe sahip bir çiftin hayatına odaklanıyor. Vic ve Melinda Van Allen, evliliklerinde sorun yaşayan bir çifttir. Uzun süredir yaşadıkları sıkıntı, aralarındaki sevginin de giderek azalmasına neden olur. Evliliklerini sonlandırmak istemeyen çift, birbirlerinin başkaları ile görüşmelerine izin vererek boşanmaktan kaçınmaya çalışır. Ancak Melinda'nın görüştüğü kişilerin tek tek ortadan kaybolması, Vic'in baş şüpheliler arasında yer almasına neden olur.\n",
      "cikis tarihi bulunamadi\n",
      "1s 55dk\n",
      "https://www.beyazperde.com//filmler/film-278915/\n",
      "Dayı: Bir Adamın Hikayesi\n",
      "Dayı: Bir Adamın Hikayesi, sevilen bir kabadayının hayat hikayesini konu ediyor. Henüz çocukken, adalet duygusu içine yerleşmiş olan, cesaretli ve merhametli bir adam, haylazlıklarından bıkan ailesi tarafından çalışması için köyden İstanbul'a gönderilir. Adam, kahvecilik yapan köylüleri Seyfi'nin yanında çalışmaya başlar. Bu süreçte yaşadığı olaylar sonucu adam kabadayılar ailemine girer ve bir süre sonra bu dünyada zirveye yükselir.\n",
      "10 Aralık 2021\n",
      "2s 5dk\n",
      "https://www.beyazperde.com//filmler/film-205450/\n",
      "Grinin Elli Tonu\n",
      "Bir edebiyat öğrencisi olan güzel Anastasia Steele, çekici ve zengin bir iş adamı olan Christian Grey ile bir röportaj gerçekleştirir. Görüşmeye gittiğinde karşısında, tavırları ve çekiciliği ile baş döndüren bir adam bulur. Aşk ve ilişkiye biraz mesafeli duran Anastasia, bu zengin ve yakışıklı adamın cazibesine karşı koyamaz ve kendisini çekimine bırakır. Fakat hayatta her şeye karşı doyum noktasına ulaşmış olan Grey'in ilişki ve seks söz konusu olunca kimsenin bilmediği gizli sırları vardır. Genç kız karşısındaki adamla şehvetin bilmediği yollarına da sapacak mıdır?E.L. James'in çok satanlar listesinden inmeyen aynı adlı romanından uyarlanan filmin yönetmenliğini Sam Taylor-Johnson üstlenirken, başrolleri Jamie Dornan ve Dakota Johnson paylaşıyor.\n",
      "13 Şubat 2015\n",
      "2s 5dk\n"
     ]
    }
   ],
   "source": [
    "liste=[]\n",
    "r = requests.get(\"https://www.beyazperde.com/filmler-tum/\")\n",
    "soup = BeautifulSoup(r.content, \"lxml\")\n",
    "soup1 = soup.find_all(\"li\", attrs={\"class\":\"mdl\"})\n",
    "\n",
    "for linkler in soup1:\n",
    "    soup2 = linkler.find(\"h2\", attrs={\"class\":\"meta-title\"})\n",
    "    linksonu=soup2.a.get(\"href\")\n",
    "    linkbasi= \"https://www.beyazperde.com/\"\n",
    "    link = linkbasi+linksonu\n",
    "    print(link) \n",
    "    \n",
    "    r1 = requests.get(link)\n",
    "    soup1 = BeautifulSoup(r1.content,\"lxml\")\n",
    "    \n",
    "    filmadi = soup1.find(\"span\",attrs={\"class\":\"tt_r26 j_entities\"}).text.strip().replace(\"\\n\\r\\n\",\"\")\n",
    "    print(filmadi)\n",
    "    \n",
    "    ozet = soup1.find(\"div\",attrs={\"class\":\"margin_20b\"}).text.strip().replace(\"\\n\\r\\n\",\"\")\n",
    "    print(ozet)\n",
    "    \n",
    "    try:\n",
    "        cikistarihi = soup1.find(\"span\",attrs={\"itemprop\":\"datePublished\"}).text.strip().replace(\"\\n\\r\\n\",\"\")\n",
    "    except:\n",
    "        cikistarihi=\"cikis tarihi bulunamadi\"\n",
    "    print(cikistarihi)\n",
    "    \n",
    "    try:\n",
    "        süre = soup1.find(\"span\",attrs={\"itemprop\":\"duration\"}).text.strip().replace(\"\\n\\r\\n\",\"\")\n",
    "    except:\n",
    "        süre=\"süre bulunamadi\"\n",
    "    print(süre)\n",
    "    \n",
    "    liste.append([filmadi,ozet,cikistarihi,süre])\n",
    "    "
   ]
  },
  {
   "cell_type": "code",
   "execution_count": 13,
   "metadata": {
    "scrolled": true
   },
   "outputs": [
    {
     "data": {
      "text/plain": [
       "[['Bergen',\n",
       "  \"Arabeskin unutulmayan kadın seslerinden biri olan Bergen'in hayatını anlatan filmde, Bergen olarak bilinen Belgin'in Ankara'dan Adana'ya, oradan da yaşadığı aşkın ardından ebediyete uzanan öyküsünü anlatıyor. 1959 yılında Mersin’de yedi çocuklu bir ailenin en küçük çocuğu olarak dünyaya gelir Belgin. Anne ve babasının boşanması hayatını kökten bir biçimde değiştirir. Ankara'da yaşarken annesinden başka kimsesi yoktur, baba yoksunluğu içinde derin bir boşluk açar. Öte yandan, konservatuara\\xa0girme başarısıyla katmerlenen\\xa0gelecek umudu, ilk aşkı Abdullah'tan ayrılmasıyla yara alır. Ama onun en büyük gücü yeteneğidir. Ankara'nın prestijli mekânı Feyman Kulüp'te\\xa0keşfedilmesiyle birlikte, parlayan genç bir yıldıza, Bergen'e dönüşür.Ancak zamanın koşullarında yapılan kontratlar sebebiyle Bergen bir süre çalışmak\\xa0için annesiyle birlikte Adana'ya gider. Adana’da çalıştığı müzikholde sahne ve müzik tarzını değiştirmek zorunda kalır.\\xa0Daha sonra evleneceği Halis Serbest ile karşılaşmasıyla,\\xa0manipülatif olaylar dizisinin içinde bulur\\xa0kendini. Halis Serbest'le\\xa0yaptığı evlilik\\xa0ise düşlediğinin tersine\\xa0Bergen'i\\xa0hayattan koparır. Şiddet dolu günlerde tümüyle yalnızdır. Kariyerinin en güzel yerinde Halis Serbest'in kezzap saldırısına uğrayan Bergen bir gözünü kaybeder. Bergen yaşadığı trajediye rağmen sahnelere döndüğünde, olağanüstü şarkıcılığıyla Türkiye çapında şöhretli bir şarkıcı olur. Halis'in tehdit, taciz ve şiddetle seyreden\\xa0gerilimli\\xa0ilişki,\\xa0git-gellerle devam eder. Bergen hep korku içinde yaşar. Sonunda kesin bir\\xa0biçimde Halis Serbest'ten\\xa0kurtulduğunu düşündüğü bir yolculukta silahlı saldırıya uğrar. Annesinin ağır yaralandığı bu saldırıda Bergen hayatını kaybeder. Henüz 30 yaşındaki\\xa0Bergen\\xa0öldüğünde\\xa0ise hem bir kurban hem\\xa0de\\xa0arabeskin\\xa0kraliçesi\\xa0olarak insanların kalplerine kazınmıştır.\",\n",
       "  '4 Mart 2022',\n",
       "  '2s 26dk'],\n",
       " ['The Batman',\n",
       "  \"The Batman, suçluların kalplerine korku salan Batman'in Riddler isimli bir seri katille mücadelesini konu ediyor. Batman olarak iki yıl sokaklarda dolaşmak ve suçlulara korku salmak Bruce Wayne'i Gotham City'nin karanlığının kalbine sürükledi. Gizemli bir seri katil Riddler, şehrin seçkinlerini hedef alıp bir dizi sadist ve hain saldırı gerçekleştirdiğinde Batman, Riddler'in izini sürmeye başlar. İpuçlarınını peşinden giden Batman'in yolu bu süreçte Catwoman olarak bilinen Selina Kyle, Penguen olarak da bilinen Oswald Cobblepot ve Carmine Falcone gibi karakterlerle kesişir. Batman kurduğu yeni ilişkilerin de yardımıyla suçluların maskesini düşürmek ve Gotham Şehri’ni eski huzuruna kavuşturmak için zorlu bir mücadeleye girişir.\",\n",
       "  '4 Mart 2022',\n",
       "  '2s 57dk'],\n",
       " ['Dilberay',\n",
       "  \"Dilberay, zorlu bir yaşam süren ve 2019 yılında hayata veda eden Dilber Ay’ın hayat hikayesini konu ediyor. Dilber Ay, Kahramanmaraş'ta sekiz çocuklu bir ailenin kızı olarak dünyaya geldi. Hayata çadırda başlayan Dilber Ay, 13 yaşındayken kendisinden yaşça büyük bir adama para karşılığı satıldı. Evlenip, çocuk sahibi olan Dilber Ay'ın en büyük tutkusu şarkı söylemekti ve bu yüzden dayak yiyip, işkence çekti. Ancak o yaşadığı her acıya rağmen sesinden aldığı güçle sahnelere adım attı. Yaşamı boyunca zirveyi gördüğü gibi dibe de vuran Dilber Ay, düştüğü dipsiz kuyulardan şarkı söyleyerek çıktı.\",\n",
       "  '4 Şubat 2022',\n",
       "  '2s 9dk'],\n",
       " ['Kırmızı',\n",
       "  'Çocuk filmi \\n\\n\\nKırmızı, ergenliğin getirdiği sorunların altında sıkışıp kalan on üç yaşındaki Mei Lee’nin hayatına odaklanıyor. Mei Lee, annesinin beklentisi ve ergenliğin beraberinde getirdiği karmaşa arasında kalan 13 yaşındaki bir kızdır. Baskıcı olduğu kadar koruyucu bir anne olan Ming, kızının yanından uzaklaşmasını istemez. Ancak bu durum Mei Lee için oldukça talihsizdir. Hem ilişkilerindeki hem de vücudundaki değişikliklerle uğraşan Mei, heyecanlandığı zaman dev bir pandaya dönüşür.',\n",
       "  '11 Mart 2022',\n",
       "  '1s 40dk'],\n",
       " ['İlk Seans NMSM',\n",
       "  \"İlk Seans: NMSM, mahsur kaldığı metro istasyonunda hayatı boyunca üstesinden gelmeye çalıştığı fobileriyle yüzleşmek zorunda kalan Aslı'nın hikayesini konu ediyor. Çocukluğunda üvey babası kaynaklı oluşan fobilerle başa çıkmaya çalışan Aslı, bu nedenle psikolojik tedavi görür. Karanlık korkusu, kirlenme korkusu, gölge korkusu ve fare korkusu ile başa çıkmak için mücadele eden Aslı, bir gece katıldığı davetten eve dönerken taksi bulmayınca metroya binmek zorunda kalır. Yanında korkularının üstesinden gelmesine yardımcı olması için, içinde dezenfektan, el feneri, yedek pil ve türlü temizlik malzemeleri bulunan 2 çanta taşıyan Aslı, bineceği metroyu da kaçırınca günün son trenini beklemek zozrunda kalır. Trene binip, sakin bir yer seçen Aslı, müzik dinlemeye başlar ancak bu sırada uyuyakalınca son durağa gelen vagonda mahsur kalır. Uyandığında kendisini karanlık bir vagonda tek başına bulan Aslı, çantasının birinin çalındığı ve telefonun da şarjının bittiğini fark eder. En büyük korkularıyla baş başa kalan Aslı, vagondan çıkmayı başarabilecek midir?\",\n",
       "  '11 Mart 2022',\n",
       "  '1s 0dk'],\n",
       " ['Kesişme: İyi ki Varsın Eren',\n",
       "  \"Kesişme; İyi ki Varsın Eren, Trabzon Maçka'da teröristlerle kahraman Mehmetçiğin çatışması sırasında hayatını kaybeden Eren Bülbül ve onu korumaya çalışırken şehit olan Astsubay Kıdemli Başçavuş Ferhat Gedik’in hayat hikayesini konu ediyor.\",\n",
       "  '1 Ocak 2022',\n",
       "  '1s 37dk'],\n",
       " ['Aykut Enişte 2',\n",
       "  \"Aykut Enişte 2, sevdiği kadınla evlilik arifesindeyken kendisini türlü olayların içinde bulan Aykut'un hikayesini konu ediyor. Aykut ile Gülşah evlilik hazırlığındadır. Gülşah'ı elinden kaçırmamaya kararlı olan Aykut, sevdiği kadınla evlenip, Atabeyoğlu Ailesi’nin damadı olacağı için oldukça heyecanlıdır. Ancak beklenmedik bir durum tüm planların alt üst olmasına neden olur. Ailenin eski eniştesi olan Talat'ın düğünden birkaç gün önce ortaya çıkması, tüm işleri karıştırır. İyi niyeti ve saflığı nedeniyle başına açılan belalardan kurtulmaya çalışan Aykut, Gülşah ile evlenmeyi başarabilecek midir?\",\n",
       "  '3 Aralık 2021',\n",
       "  '1s 59dk'],\n",
       " ['Adanış: Kutsal Kavga',\n",
       "  'Adanış: Kutsal Kavga, İstanbul\\'un fethinden sonra bir yarısı soylu Julius Ailesi’nde diğer yarısı ise\\xa0 Adanmışlar\\'da olan kutsal haritanın odağında olan olayları konu ediyor. \"Adanmışlar\", İstanbul’u fethinin ardından Türklerin eline geçen önemli bir sırrı korumak için teşkilatlanmış olan bir gruptur. Sırrı korumak için her şeyi göze alan \"Adanmışlar, sırrı ele geçirmek için çabalayan karanlık güçlere karşı zorlu bir mücadeleye girişir.',\n",
       "  '11 Mart 2022',\n",
       "  '1s 52dk'],\n",
       " ['Örümcek-Adam Eve Dönüş Yok',\n",
       "  \"Örümcek-Adam Eve Dönüş Yok, kimliği açığa Örümcek-Adam'ın, sırrını geri vermesi için Doktor Strange'den yardım istemesiyle birlikte yaşananları konu ediyor. Örümcek-Adam'ın kimliği ifşa edilerek onun ve sevdiklerinin hayatı, halkın gözü önüne serilir. Kendisini büyük bir kaosun ortasında bulan Peter, aynı zamanda suç ortakları olarak lanse edilen MJ ve Ned'in hayatının da olumsuz etkilenmesine şahit olur. Arkadaşların üniversiteye girme şanslarının yok olmasına seyirci kalmak istemeyen Peter, sırrını geri vermesi için Doktor Strange'den yardım ister. Peter'ın yakarışından etkilenip ona yardım etmeyi kabul eden Strange, Unutma Büyüsü'nü yapmaya başlar. Ancak bu büyü, MJ, Ned, May ve Happy'nin de Örümcek-Adam'ın kim olduğunu unutmasına neden olacaktır. Arkadaşlarının kim olduğunu hatırlamasını, diğer kişilerin unutmasını isteyen Peter, Strange büyüyü yaparken parametreleri değiştirir. Ancak bu durum beklenmedik olaylara neden olur.\",\n",
       "  '17 Aralık 2021',\n",
       "  '2s 28dk'],\n",
       " ['Sen Yaşamaya Bak',\n",
       "  \"Melisa, oğlu Can'ı tek başına büyüten bekar bir annedir. Hasta olduğunu öğrenmesiyle onun hayatı bambaşka bir hal alır. Çok az ömrü kalan Melisa, hayatının son günlerinde ayaklarını yerden kesecek bir aşk yaşayıp, Can'ı emanet edebileceği birini bulabilecek midir?\",\n",
       "  'cikis tarihi bulunamadi',\n",
       "  '1s 44dk'],\n",
       " ['Garip Bülbül Neşet Ertaş',\n",
       "  'Garip Bülbül, büyük ozan Neşet Ertaş\\'ın hayat hikayesini konu ediyor. Hayatı boyunca 400 plak ve birçok kasete imza atan Neşet Ertaş, \"Garip\" mahlasıyla birçok şiir yazdı. Filmde, 2012 yılında vefat eden Neşet Ertaş\\'ın hem özel hem de kariyer hayatına dair bilinmeyenler anlatılıyor.',\n",
       "  '21 Ekim 2022',\n",
       "  'süre bulunamadi'],\n",
       " ['Uncharted',\n",
       "  \"Uncharted, genç ve korkusuz Nathan Drake ile kıvrak zekalı ortağı Victor Sullivan'ın çıktıkları ilk hazine avında yaşadığı maceraları konu ediyor. Hazine avcısı Nathan Drake, efsanevi Güney Amerika altın şehri El Dorado'nun yerini bulabileceğine inanmaktadır. Kıvrak zekalı ortağı Victor Sullivan ile yola koyulan Nathan'ın planı, hırslı bir rakip tarafından keşfedildiğinde, altın şehir arayışı bir yarışa dönüşür. Nathan, baş düşmanının açgözlü entrikalarını ve planlarını engellemek ve El Dorado'ya ondan önce ulaşmak için tüm becerilerini kullanmak zorundadır.\",\n",
       "  '11 Şubat 2022',\n",
       "  '1s 56dk'],\n",
       " ['Derin Sular',\n",
       "  \"Derin Sular, mutsuz bir evliliğe sahip bir çiftin hayatına odaklanıyor. Vic ve Melinda Van Allen, evliliklerinde sorun yaşayan bir çifttir. Uzun süredir yaşadıkları sıkıntı, aralarındaki sevginin de giderek azalmasına neden olur. Evliliklerini sonlandırmak istemeyen çift, birbirlerinin başkaları ile görüşmelerine izin vererek boşanmaktan kaçınmaya çalışır. Ancak Melinda'nın görüştüğü kişilerin tek tek ortadan kaybolması, Vic'in baş şüpheliler arasında yer almasına neden olur.\",\n",
       "  'cikis tarihi bulunamadi',\n",
       "  '1s 55dk'],\n",
       " ['Dayı: Bir Adamın Hikayesi',\n",
       "  \"Dayı: Bir Adamın Hikayesi, sevilen bir kabadayının hayat hikayesini konu ediyor. Henüz çocukken, adalet duygusu içine yerleşmiş olan, cesaretli ve merhametli bir adam, haylazlıklarından bıkan ailesi tarafından çalışması için köyden İstanbul'a gönderilir. Adam, kahvecilik yapan köylüleri Seyfi'nin yanında çalışmaya başlar. Bu süreçte yaşadığı olaylar sonucu adam kabadayılar ailemine girer ve bir süre sonra bu dünyada zirveye yükselir.\",\n",
       "  '10 Aralık 2021',\n",
       "  '2s 5dk'],\n",
       " ['Grinin Elli Tonu',\n",
       "  \"Bir edebiyat öğrencisi olan güzel Anastasia Steele, çekici ve zengin bir iş adamı olan Christian Grey ile bir röportaj gerçekleştirir. Görüşmeye gittiğinde karşısında, tavırları ve çekiciliği ile baş döndüren bir adam bulur. Aşk ve ilişkiye biraz mesafeli duran Anastasia, bu zengin ve yakışıklı adamın cazibesine karşı koyamaz ve kendisini çekimine bırakır. Fakat hayatta her şeye karşı doyum noktasına ulaşmış olan Grey'in ilişki ve seks söz konusu olunca kimsenin bilmediği gizli sırları vardır. Genç kız karşısındaki adamla şehvetin bilmediği yollarına da sapacak mıdır?E.L. James'in çok satanlar listesinden inmeyen aynı adlı romanından uyarlanan filmin yönetmenliğini Sam Taylor-Johnson\\xa0üstlenirken, başrolleri\\xa0Jamie Dornan ve\\xa0Dakota Johnson paylaşıyor.\",\n",
       "  '13 Şubat 2015',\n",
       "  '2s 5dk']]"
      ]
     },
     "execution_count": 13,
     "metadata": {},
     "output_type": "execute_result"
    }
   ],
   "source": [
    "liste"
   ]
  },
  {
   "cell_type": "code",
   "execution_count": 14,
   "metadata": {},
   "outputs": [
    {
     "data": {
      "text/html": [
       "<div>\n",
       "<style scoped>\n",
       "    .dataframe tbody tr th:only-of-type {\n",
       "        vertical-align: middle;\n",
       "    }\n",
       "\n",
       "    .dataframe tbody tr th {\n",
       "        vertical-align: top;\n",
       "    }\n",
       "\n",
       "    .dataframe thead th {\n",
       "        text-align: right;\n",
       "    }\n",
       "</style>\n",
       "<table border=\"1\" class=\"dataframe\">\n",
       "  <thead>\n",
       "    <tr style=\"text-align: right;\">\n",
       "      <th></th>\n",
       "      <th>filmadi</th>\n",
       "      <th>ozet</th>\n",
       "      <th>cikis tarihi</th>\n",
       "      <th>sure</th>\n",
       "    </tr>\n",
       "  </thead>\n",
       "  <tbody>\n",
       "    <tr>\n",
       "      <td>0</td>\n",
       "      <td>Bergen</td>\n",
       "      <td>Arabeskin unutulmayan kadın seslerinden biri o...</td>\n",
       "      <td>4 Mart 2022</td>\n",
       "      <td>2s 26dk</td>\n",
       "    </tr>\n",
       "    <tr>\n",
       "      <td>1</td>\n",
       "      <td>The Batman</td>\n",
       "      <td>The Batman, suçluların kalplerine korku salan ...</td>\n",
       "      <td>4 Mart 2022</td>\n",
       "      <td>2s 57dk</td>\n",
       "    </tr>\n",
       "    <tr>\n",
       "      <td>2</td>\n",
       "      <td>Dilberay</td>\n",
       "      <td>Dilberay, zorlu bir yaşam süren ve 2019 yılınd...</td>\n",
       "      <td>4 Şubat 2022</td>\n",
       "      <td>2s 9dk</td>\n",
       "    </tr>\n",
       "    <tr>\n",
       "      <td>3</td>\n",
       "      <td>Kırmızı</td>\n",
       "      <td>Çocuk filmi \\n\\n\\nKırmızı, ergenliğin getirdiğ...</td>\n",
       "      <td>11 Mart 2022</td>\n",
       "      <td>1s 40dk</td>\n",
       "    </tr>\n",
       "    <tr>\n",
       "      <td>4</td>\n",
       "      <td>İlk Seans NMSM</td>\n",
       "      <td>İlk Seans: NMSM, mahsur kaldığı metro istasyon...</td>\n",
       "      <td>11 Mart 2022</td>\n",
       "      <td>1s 0dk</td>\n",
       "    </tr>\n",
       "    <tr>\n",
       "      <td>5</td>\n",
       "      <td>Kesişme: İyi ki Varsın Eren</td>\n",
       "      <td>Kesişme; İyi ki Varsın Eren, Trabzon Maçka'da ...</td>\n",
       "      <td>1 Ocak 2022</td>\n",
       "      <td>1s 37dk</td>\n",
       "    </tr>\n",
       "    <tr>\n",
       "      <td>6</td>\n",
       "      <td>Aykut Enişte 2</td>\n",
       "      <td>Aykut Enişte 2, sevdiği kadınla evlilik arifes...</td>\n",
       "      <td>3 Aralık 2021</td>\n",
       "      <td>1s 59dk</td>\n",
       "    </tr>\n",
       "    <tr>\n",
       "      <td>7</td>\n",
       "      <td>Adanış: Kutsal Kavga</td>\n",
       "      <td>Adanış: Kutsal Kavga, İstanbul'un fethinden so...</td>\n",
       "      <td>11 Mart 2022</td>\n",
       "      <td>1s 52dk</td>\n",
       "    </tr>\n",
       "    <tr>\n",
       "      <td>8</td>\n",
       "      <td>Örümcek-Adam Eve Dönüş Yok</td>\n",
       "      <td>Örümcek-Adam Eve Dönüş Yok, kimliği açığa Örüm...</td>\n",
       "      <td>17 Aralık 2021</td>\n",
       "      <td>2s 28dk</td>\n",
       "    </tr>\n",
       "    <tr>\n",
       "      <td>9</td>\n",
       "      <td>Sen Yaşamaya Bak</td>\n",
       "      <td>Melisa, oğlu Can'ı tek başına büyüten bekar bi...</td>\n",
       "      <td>cikis tarihi bulunamadi</td>\n",
       "      <td>1s 44dk</td>\n",
       "    </tr>\n",
       "    <tr>\n",
       "      <td>10</td>\n",
       "      <td>Garip Bülbül Neşet Ertaş</td>\n",
       "      <td>Garip Bülbül, büyük ozan Neşet Ertaş'ın hayat ...</td>\n",
       "      <td>21 Ekim 2022</td>\n",
       "      <td>süre bulunamadi</td>\n",
       "    </tr>\n",
       "    <tr>\n",
       "      <td>11</td>\n",
       "      <td>Uncharted</td>\n",
       "      <td>Uncharted, genç ve korkusuz Nathan Drake ile k...</td>\n",
       "      <td>11 Şubat 2022</td>\n",
       "      <td>1s 56dk</td>\n",
       "    </tr>\n",
       "    <tr>\n",
       "      <td>12</td>\n",
       "      <td>Derin Sular</td>\n",
       "      <td>Derin Sular, mutsuz bir evliliğe sahip bir çif...</td>\n",
       "      <td>cikis tarihi bulunamadi</td>\n",
       "      <td>1s 55dk</td>\n",
       "    </tr>\n",
       "    <tr>\n",
       "      <td>13</td>\n",
       "      <td>Dayı: Bir Adamın Hikayesi</td>\n",
       "      <td>Dayı: Bir Adamın Hikayesi, sevilen bir kabaday...</td>\n",
       "      <td>10 Aralık 2021</td>\n",
       "      <td>2s 5dk</td>\n",
       "    </tr>\n",
       "    <tr>\n",
       "      <td>14</td>\n",
       "      <td>Grinin Elli Tonu</td>\n",
       "      <td>Bir edebiyat öğrencisi olan güzel Anastasia St...</td>\n",
       "      <td>13 Şubat 2015</td>\n",
       "      <td>2s 5dk</td>\n",
       "    </tr>\n",
       "  </tbody>\n",
       "</table>\n",
       "</div>"
      ],
      "text/plain": [
       "                        filmadi  \\\n",
       "0                        Bergen   \n",
       "1                    The Batman   \n",
       "2                      Dilberay   \n",
       "3                       Kırmızı   \n",
       "4                İlk Seans NMSM   \n",
       "5   Kesişme: İyi ki Varsın Eren   \n",
       "6                Aykut Enişte 2   \n",
       "7          Adanış: Kutsal Kavga   \n",
       "8    Örümcek-Adam Eve Dönüş Yok   \n",
       "9              Sen Yaşamaya Bak   \n",
       "10     Garip Bülbül Neşet Ertaş   \n",
       "11                    Uncharted   \n",
       "12                  Derin Sular   \n",
       "13    Dayı: Bir Adamın Hikayesi   \n",
       "14             Grinin Elli Tonu   \n",
       "\n",
       "                                                 ozet  \\\n",
       "0   Arabeskin unutulmayan kadın seslerinden biri o...   \n",
       "1   The Batman, suçluların kalplerine korku salan ...   \n",
       "2   Dilberay, zorlu bir yaşam süren ve 2019 yılınd...   \n",
       "3   Çocuk filmi \\n\\n\\nKırmızı, ergenliğin getirdiğ...   \n",
       "4   İlk Seans: NMSM, mahsur kaldığı metro istasyon...   \n",
       "5   Kesişme; İyi ki Varsın Eren, Trabzon Maçka'da ...   \n",
       "6   Aykut Enişte 2, sevdiği kadınla evlilik arifes...   \n",
       "7   Adanış: Kutsal Kavga, İstanbul'un fethinden so...   \n",
       "8   Örümcek-Adam Eve Dönüş Yok, kimliği açığa Örüm...   \n",
       "9   Melisa, oğlu Can'ı tek başına büyüten bekar bi...   \n",
       "10  Garip Bülbül, büyük ozan Neşet Ertaş'ın hayat ...   \n",
       "11  Uncharted, genç ve korkusuz Nathan Drake ile k...   \n",
       "12  Derin Sular, mutsuz bir evliliğe sahip bir çif...   \n",
       "13  Dayı: Bir Adamın Hikayesi, sevilen bir kabaday...   \n",
       "14  Bir edebiyat öğrencisi olan güzel Anastasia St...   \n",
       "\n",
       "               cikis tarihi             sure  \n",
       "0               4 Mart 2022          2s 26dk  \n",
       "1               4 Mart 2022          2s 57dk  \n",
       "2              4 Şubat 2022           2s 9dk  \n",
       "3              11 Mart 2022          1s 40dk  \n",
       "4              11 Mart 2022           1s 0dk  \n",
       "5               1 Ocak 2022          1s 37dk  \n",
       "6             3 Aralık 2021          1s 59dk  \n",
       "7              11 Mart 2022          1s 52dk  \n",
       "8            17 Aralık 2021          2s 28dk  \n",
       "9   cikis tarihi bulunamadi          1s 44dk  \n",
       "10             21 Ekim 2022  süre bulunamadi  \n",
       "11            11 Şubat 2022          1s 56dk  \n",
       "12  cikis tarihi bulunamadi          1s 55dk  \n",
       "13           10 Aralık 2021           2s 5dk  \n",
       "14            13 Şubat 2015           2s 5dk  "
      ]
     },
     "execution_count": 14,
     "metadata": {},
     "output_type": "execute_result"
    }
   ],
   "source": [
    "df = pd.DataFrame(liste)\n",
    "df.columns=[\"filmadi\",\"ozet\",\"cikis tarihi\",\"sure\"]\n",
    "df"
   ]
  },
  {
   "cell_type": "code",
   "execution_count": null,
   "metadata": {},
   "outputs": [],
   "source": []
  },
  {
   "cell_type": "code",
   "execution_count": null,
   "metadata": {},
   "outputs": [],
   "source": []
  },
  {
   "cell_type": "code",
   "execution_count": null,
   "metadata": {},
   "outputs": [],
   "source": []
  },
  {
   "cell_type": "code",
   "execution_count": null,
   "metadata": {},
   "outputs": [],
   "source": []
  },
  {
   "cell_type": "code",
   "execution_count": null,
   "metadata": {},
   "outputs": [],
   "source": []
  },
  {
   "cell_type": "code",
   "execution_count": null,
   "metadata": {},
   "outputs": [],
   "source": []
  },
  {
   "cell_type": "code",
   "execution_count": null,
   "metadata": {},
   "outputs": [],
   "source": []
  },
  {
   "cell_type": "code",
   "execution_count": null,
   "metadata": {},
   "outputs": [],
   "source": []
  },
  {
   "cell_type": "code",
   "execution_count": null,
   "metadata": {},
   "outputs": [],
   "source": []
  },
  {
   "cell_type": "code",
   "execution_count": null,
   "metadata": {},
   "outputs": [],
   "source": []
  },
  {
   "cell_type": "code",
   "execution_count": null,
   "metadata": {},
   "outputs": [],
   "source": []
  },
  {
   "cell_type": "code",
   "execution_count": null,
   "metadata": {},
   "outputs": [],
   "source": []
  },
  {
   "cell_type": "code",
   "execution_count": null,
   "metadata": {},
   "outputs": [],
   "source": []
  }
 ],
 "metadata": {
  "kernelspec": {
   "display_name": "Python 3",
   "language": "python",
   "name": "python3"
  },
  "language_info": {
   "codemirror_mode": {
    "name": "ipython",
    "version": 3
   },
   "file_extension": ".py",
   "mimetype": "text/x-python",
   "name": "python",
   "nbconvert_exporter": "python",
   "pygments_lexer": "ipython3",
   "version": "3.7.4"
  }
 },
 "nbformat": 4,
 "nbformat_minor": 2
}
